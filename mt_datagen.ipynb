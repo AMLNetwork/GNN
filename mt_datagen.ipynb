{
 "cells": [
  {
   "cell_type": "code",
   "execution_count": 5,
   "id": "c59b7c62-b84f-45dc-b9a7-51b0344f0150",
   "metadata": {},
   "outputs": [
    {
     "name": "stderr",
     "output_type": "stream",
     "text": [
      "/home/super-potato/.local/lib/python3.9/site-packages/ray/_private/services.py:238: UserWarning: Not all Ray Dashboard dependencies were found. To use the dashboard please install Ray using `pip install ray[default]`. To disable this message, set RAY_DISABLE_IMPORT_WARNING env var to '1'.\n",
      "  warnings.warn(warning_message)\n"
     ]
    },
    {
     "data": {
      "text/plain": [
       "{'node_ip_address': '192.168.178.33',\n",
       " 'raylet_ip_address': '192.168.178.33',\n",
       " 'redis_address': '192.168.178.33:27162',\n",
       " 'object_store_address': '/tmp/ray/session_2021-09-27_10-16-43_747445_1842/sockets/plasma_store',\n",
       " 'raylet_socket_name': '/tmp/ray/session_2021-09-27_10-16-43_747445_1842/sockets/raylet',\n",
       " 'webui_url': None,\n",
       " 'session_dir': '/tmp/ray/session_2021-09-27_10-16-43_747445_1842',\n",
       " 'metrics_export_port': 50340,\n",
       " 'node_id': 'ab4e6634a09580abf222ff6714f0036f26df8d48747ba9df90fb64ee'}"
      ]
     },
     "execution_count": 5,
     "metadata": {},
     "output_type": "execute_result"
    }
   ],
   "source": [
    "%run DataSEIR.ipynb\n",
    "import ray\n",
    "from torch_geometric.data import Data"
   ]
  },
  {
   "cell_type": "code",
   "execution_count": null,
   "id": "62a58256-0c1c-4126-9b21-545051093656",
   "metadata": {},
   "outputs": [],
   "source": [
    "class datagen():\n",
    "    def __init__(self, batch_amount,p , CPU_threads, N, iterations, infection_probability, removal_probability, \n",
    "               latent_period, filename, one_hot_features, two_d_labels,save, show_progress, types, graph_type = 'ER'):\n",
    "        self.batch_amount = batch_amount\n",
    "        self.graph_type = graph_type\n",
    "        self.p = p\n",
    "        self.CPU_threads = CPU_threads\n",
    "        self.N = N\n",
    "        self.iterations = iterations\n",
    "        self.infection_probability = infection_probability\n",
    "        self.removal_probability = removal_probability\n",
    "        self.latent_period = latent_period\n",
    "        self.filename = filename\n",
    "        self.one_hot_features = one_hot_features\n",
    "        self.two_d_labels = two_d_labels\n",
    "        self.show_progress = show_progress\n",
    "        self.types = types\n",
    "        self.features = 3 if types == 'SIR' else 4\n",
    "        self.save = save\n",
    "        \n",
    "    def to_one_hot(self):\n",
    "        for it, data in enumerate(self.dataset):\n",
    "            one_hot = torch.zeros((data.x.shape[0], self.features))\n",
    "            one_hot[np.arange(data.x.shape[0], dtype=int), data.x[:,0].long()]= 1\n",
    "            data.x = one_hot\n",
    "\n",
    "    def from_one_hot(self):\n",
    "        prog = 0\n",
    "        l = len(self.dataset)\n",
    "        for it, data in enumerate(self.dataset):\n",
    "            if data.y.ndim != 2:\n",
    "                print(\"data {} does not have 2 dims... skipping\".format(it))\n",
    "            else:\n",
    "                data.y = data.y[:,1]\n",
    "        print(\"dataset now converted from one-hot\")\n",
    "\n",
    "    # declare wrapper for ray (multithreading for faster datageneration)\n",
    "    # execute SEIRdata from DataSEIR.ipynb\n",
    "    @ray.remote\n",
    "    def SEIR_gen(self):\n",
    "        model = SEIRdata(batches=self.batch_amount, show_progress=self.show_progress, graph_type=self.graph_type, one_hot_target=True, iterations=self.iterations, N=self.N,p = self.p, beta=self.infection_probability, gamma=self.removal_probability, alpha=self.latent_period)\n",
    "        return model.generate_data()\n",
    "\n",
    "    def generate(self):\n",
    "        # generate data and distribute over available cores\n",
    "        ray.init()\n",
    "        xs = [self.SEIR_gen.remote(self) for i in range(self.CPU_threads)]\n",
    "        xs = ray.get(xs)\n",
    "        ray.shutdown()\n",
    "        print('data generated.')\n",
    "        # transform generated data into desired format\n",
    "        self.dataset = []\n",
    "        for z in xs:\n",
    "            for graph_index in range(self.batch_amount):\n",
    "                self.dataset.append(Data(edge_index = z[graph_index][1], x = z[graph_index][2], y = z[graph_index][3]))\n",
    "        # transform features into onehot format\n",
    "        if self.one_hot_features == True:\n",
    "            print('one_hot')\n",
    "            self.to_one_hot()\n",
    "            print('onehot encoding complete.')\n",
    "        else:\n",
    "            pass\n",
    "        if self.two_d_labels == False: self.from_one_hot()\n",
    "        #save data as one file\n",
    "        if not self.filename:\n",
    "            self.filename = str(self.iterations)+'its_'+str(self.N)+'N_'+self.graph_type+'_type'\n",
    "        else:\n",
    "            pass\n",
    "        torch.save(self.dataset, self.filename+\".pt\")\n",
    "        if self.save == True: print('data saved.')\n",
    "    def show(self):\n",
    "        return self.dataset"
   ]
  }
 ],
 "metadata": {
  "kernelspec": {
   "display_name": "Python 3 (ipykernel)",
   "language": "python",
   "name": "python3"
  },
  "language_info": {
   "codemirror_mode": {
    "name": "ipython",
    "version": 3
   },
   "file_extension": ".py",
   "mimetype": "text/x-python",
   "name": "python",
   "nbconvert_exporter": "python",
   "pygments_lexer": "ipython3",
   "version": "3.9.7"
  }
 },
 "nbformat": 4,
 "nbformat_minor": 5
}
